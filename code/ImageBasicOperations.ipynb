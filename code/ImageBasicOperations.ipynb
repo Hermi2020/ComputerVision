{
 "cells": [
  {
   "cell_type": "markdown",
   "metadata": {},
   "source": [
    "## Image 기본조작"
   ]
  },
  {
   "cell_type": "code",
   "execution_count": 26,
   "metadata": {},
   "outputs": [],
   "source": [
    "import numpy as np\n",
    "import cv2\n",
    "import os\n",
    "import sys\n",
    "import matplotlib.pyplot as plt"
   ]
  },
  {
   "cell_type": "code",
   "execution_count": 27,
   "metadata": {},
   "outputs": [
    {
     "name": "stdout",
     "output_type": "stream",
     "text": [
      "4.1.0\n"
     ]
    }
   ],
   "source": [
    "print(cv2.__version__)"
   ]
  },
  {
   "cell_type": "markdown",
   "metadata": {},
   "source": [
    "### 이미지 읽고 화면 출력( Image Read / Show)"
   ]
  },
  {
   "cell_type": "code",
   "execution_count": 28,
   "metadata": {},
   "outputs": [],
   "source": [
    "#image file read\n",
    "path = \"images/\"\n",
    "fname= \"lenna.bmp\"\n",
    "filepath = path+fname\n",
    "\n",
    "#이미지 파일 읽기\n",
    "image = cv2.imread(filepath)\n",
    "\n",
    "if image is None:\n",
    "    print('Image load failed!')\n",
    "    sys.exit()\n",
    "\n",
    "# image를 Widnows로 출력\n",
    "cv2.imshow(fname, image)\n",
    "\n",
    "# 칼라 이미지를 그레이스케일로 변환\n",
    "gray_image = cv2.cvtColor(image, cv2.COLOR_BGR2GRAY)\n",
    "\n",
    "cv2.imshow(fname+\"- gray\", gray_image)\n",
    "\n",
    "# ESC 키 입력 시 Windows 닫음\n",
    "cv2.waitKey(0)\n",
    "cv2.destroyAllWindows() "
   ]
  },
  {
   "cell_type": "markdown",
   "metadata": {},
   "source": [
    "### 이미지 속성(Image Properties)"
   ]
  },
  {
   "cell_type": "code",
   "execution_count": 29,
   "metadata": {},
   "outputs": [
    {
     "name": "stdout",
     "output_type": "stream",
     "text": [
      "image.shape =  (512, 512, 3)\n",
      "image.shape len =  3\n",
      "image.dtype =  uint8\n",
      "image.size =  786432\n",
      "lenna.bmp 512 512 3\n",
      "image.size =  786432\n",
      "\n",
      "gray_image.shape =  (512, 512)\n",
      "gray_image.shape len =  2\n",
      "gray_image.dtype =  uint8\n",
      "gray_image.size =  262144\n"
     ]
    }
   ],
   "source": [
    "#칼라 이미지 크기, 유형, 총 픽셀수 확인\n",
    "print(\"image.shape = \", image.shape)  #행(높이), 열(폭), 채널수\n",
    "print(\"image.shape len = \", len(image.shape) ) \n",
    "print(\"image.dtype = \", image.dtype)\n",
    "print(\"image.size = \", image.size)\n",
    "\n",
    "#이미지 높이, 폭, 채널수 확인\n",
    "imgHeight, imgWidth, channel = image.shape\n",
    "print(fname, imgHeight, imgWidth, channel)\n",
    "s = imgHeight * imgWidth * channel\n",
    "print(\"image.size = \", s)\n",
    "\n",
    "#그레이스케일 이미지 크기, 유형, 총 픽셀수 확인\n",
    "print(\"\\ngray_image.shape = \", gray_image.shape)  #행(높이), 열(폭), 채널수\n",
    "print(\"gray_image.shape len = \", len(gray_image.shape) ) \n",
    "print(\"gray_image.dtype = \", gray_image.dtype)\n",
    "print(\"gray_image.size = \", gray_image.size)\n"
   ]
  },
  {
   "cell_type": "markdown",
   "metadata": {},
   "source": [
    "### pixel 직접 접근"
   ]
  },
  {
   "cell_type": "code",
   "execution_count": 31,
   "metadata": {
    "scrolled": true
   },
   "outputs": [
    {
     "name": "stdout",
     "output_type": "stream",
     "text": [
      "image(100,100) =  [ 78  68 178]\n",
      "blue =  78\n",
      "green =  68\n",
      "red =  178\n",
      "gray image(100,100) =  102\n",
      "gray image(100,100) =  0\n"
     ]
    }
   ],
   "source": [
    "# x, y좌표로 직접 접근하여 칼라 픽셀값 얻기\n",
    "px = image[100,100]\n",
    "print(\"image(100,100) = \", px )\n",
    "\n",
    "# x, y좌표, 칼라채널로 직접 접근하여 각 색상값 얻기\n",
    "blue = image[100,100,0]\n",
    "print( \"blue = \", blue )\n",
    "green = image[100,100,1]\n",
    "print( \"green = \", green )\n",
    "red = image[100,100,2]\n",
    "print( \"red = \", red )\n",
    "\n",
    "# x, y좌표로 직접 접근하여  그레이스케일 픽셀값 얻기\n",
    "px = gray_image[100,100]\n",
    "print(\"gray image(100,100) = \", px )\n",
    "\n",
    "gray_image[100,100] = 0\n",
    "px = gray_image[100,100]\n",
    "print(\"gray image(100,100) = \", px )"
   ]
  },
  {
   "cell_type": "markdown",
   "metadata": {},
   "source": [
    "### 칼라 이미지 채널 분리 및 결합 (Splitting and Merging Image Channels)"
   ]
  },
  {
   "cell_type": "code",
   "execution_count": 30,
   "metadata": {},
   "outputs": [],
   "source": [
    "b,g,r = cv2.split(image)\n",
    "cv2.imshow(\"Blue\", b)\n",
    "cv2.imshow(\"Green\", g)\n",
    "cv2.imshow(\"Red\", r)\n",
    "newimg = cv2.merge((b,g,r))\n",
    "cv2.imshow(\"newImage\", newimg)\n",
    "\n",
    "# ESC 키 입력 시 Windows 닫음\n",
    "cv2.waitKey(0)\n",
    "cv2.destroyAllWindows() "
   ]
  },
  {
   "cell_type": "markdown",
   "metadata": {},
   "source": [
    "\n",
    "### 이미지 관심 영역 ( Image ROI, regions of images)"
   ]
  },
  {
   "cell_type": "code",
   "execution_count": 35,
   "metadata": {},
   "outputs": [],
   "source": [
    "#lenna.bmp에서 입 영역 직접 추출\n",
    "clone = image.copy()  #이미지를 복사\n",
    "sx = 190        # x 시작좌표\n",
    "ex = sx + 200    # x 끝좌표\n",
    "sy = 190        # y 시작좌표\n",
    "ey = sy + 200    # y 끝좌표\n",
    "ROI = clone[sy:ey,sx:ex]   #영역 추출\n",
    "cv2.imshow(\"ROI\", ROI)\n",
    "# ESC 키 입력 시 Windows 닫음\n",
    "cv2.waitKey(0)\n",
    "cv2.destroyAllWindows() "
   ]
  },
  {
   "cell_type": "markdown",
   "metadata": {},
   "source": [
    "###  image에서 이미지 영역 일부 추출\n",
    "### 마우스로 ROI 설정하여 추출"
   ]
  },
  {
   "cell_type": "code",
   "execution_count": 36,
   "metadata": {},
   "outputs": [],
   "source": [
    "#마우스 이벤트 처리\n",
    "#왼쪽 버튼을 누르는 위치를 시작점, 버튼을 떼는 위치를 끝점으로 설정\n",
    "#마우스 이동시 사각형을 그려 영역 표시\n",
    "isDragging = False\n",
    "sx, sy, w, h = -1, -1, -1, -1\n",
    "blue, red = (255, 0, 0), (0, 0, 255)\n",
    " \n",
    "def onMouse(event, x, y, flags, param):\n",
    "    global isDragging, sx, sy, image\n",
    "    if event == cv2.EVENT_LBUTTONDOWN:  #왼쪽 버튼을 누르면 드래그 시작, 시작좌표 설정\n",
    "        isDragging = True\n",
    "        sx = x\n",
    "        sy = y\n",
    "    elif event == cv2.EVENT_MOUSEMOVE:  #왼쪽 버튼을 누른채 이동하면 이미지에 파란색 사각형 그리기\n",
    "        if isDragging:\n",
    "            img_draw = image.copy()\n",
    "            cv2.rectangle(img_draw, (sx, sy), (x, y), blue, 2)\n",
    "            cv2.imshow('img', img_draw)\n",
    "    elif event == cv2.EVENT_LBUTTONUP:  #왼쪽 버튼을 떼면 \n",
    "        if isDragging:\n",
    "            isDragging = False          #드래그 설정 취소\n",
    "            w = x - sx                  #현재위치에서 시작위치를 빼서 폭과 높이 계산\n",
    "            h = y - sy\n",
    "            if w > 0 and h > 0:\n",
    "                img_draw = image.copy()\n",
    "                cv2.rectangle(img_draw, (sx, sy), (x, y), red, 2)  #빨간색 사각형으로 최종 영역 확인\n",
    "                cv2.imshow('img', img_draw)\n",
    "                roi = image[sy:sy+h, sx:sx+w]          #관심영역(roi)추출\n",
    "                cv2.imshow('cropped', roi)\n",
    "                cv2.moveWindow('cropped', 0, 0)     # 관심 영역의 추출 창의 위치를 (0,0) 화면 왼쪽위로 이동\n",
    "                cv2.imwrite('images/cropped.png', roi)  #관심영역을 파일로 저장\n",
    "            else:\n",
    "                cv2.imshow('img', image)\n",
    "                print('drag should start from left-top side')\n",
    "\n",
    "#image를 Widnows로 출력\n",
    "cv2.imshow('img', image)\n",
    "#마우스 버튼클릭이벤트 ROI 설정\n",
    "cv2.setMouseCallback('img', onMouse)\n",
    "cv2.waitKey()\n",
    "cv2.destroyAllWindows()"
   ]
  },
  {
   "cell_type": "markdown",
   "metadata": {},
   "source": [
    "### Image Addition & Blending"
   ]
  },
  {
   "cell_type": "code",
   "execution_count": null,
   "metadata": {},
   "outputs": [],
   "source": [
    "img1 = cv2.imread('images/flower1.png')\n",
    "img2 = cv2.imread('images/cat.png')\n",
    "\n",
    "dst1 = cv2.add(img1,img2)\n",
    "\n",
    "a = 0.7\n",
    "dst2 = cv2.addWeighted(img1, 1-a, img2, a, 0)\n",
    "\n",
    "cv2.imshow('img1', img1)\n",
    "cv2.imshow('img2', img2)\n",
    "cv2.imshow('add', dst1)\n",
    "cv2.imshow('addWeighted', dst2)\n",
    "\n",
    "cv2.waitKey()\n",
    "cv2.destroyAllWindows()"
   ]
  }
 ],
 "metadata": {
  "kernelspec": {
   "display_name": "Python 3",
   "language": "python",
   "name": "python3"
  },
  "language_info": {
   "codemirror_mode": {
    "name": "ipython",
    "version": 3
   },
   "file_extension": ".py",
   "mimetype": "text/x-python",
   "name": "python",
   "nbconvert_exporter": "python",
   "pygments_lexer": "ipython3",
   "version": "3.7.1"
  }
 },
 "nbformat": 4,
 "nbformat_minor": 4
}
