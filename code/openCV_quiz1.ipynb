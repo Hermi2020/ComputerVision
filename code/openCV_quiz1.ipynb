{
 "cells": [
  {
   "cell_type": "code",
   "execution_count": 3,
   "metadata": {},
   "outputs": [],
   "source": [
    "import numpy as np\n",
    "import cv2\n",
    "import os\n",
    "import sys"
   ]
  },
  {
   "cell_type": "markdown",
   "metadata": {},
   "source": [
    "1.‘cat.png’ 를 그레이스케일로 변환하고 밝기를 +30, -30으로 변환된 이미지를 출력 하세요. "
   ]
  },
  {
   "cell_type": "code",
   "execution_count": null,
   "metadata": {},
   "outputs": [],
   "source": [
    "img1 = cv2.imread('images/cat.png', cv2.IMREAD_GRAYSCALE)\n",
    "img2 = img1.copy()\n",
    "img3 = img1.copy()\n",
    "\n",
    "if img1 is None:\n",
    "        print('Image load faile !')\n",
    "        sys.exit()\n",
    "\n",
    "img2 = cv2.add(img2, 30)\n",
    "img3 = cv2.add(img3, -30)\n",
    "\n",
    "cv2.imshow('img1', img1)\n",
    "cv2.imshow('img1+30', img2)\n",
    "cv2.imshow('img1-30', img3)\n",
    "cv2.waitKey()\n",
    "cv2.destroyAllWindows()"
   ]
  },
  {
   "cell_type": "markdown",
   "metadata": {},
   "source": [
    "2. cat.png’에 대해 좌우 Flip 처리 결과를 출력하세요."
   ]
  },
  {
   "cell_type": "code",
   "execution_count": null,
   "metadata": {},
   "outputs": [],
   "source": [
    "# image flip\n",
    "img1 = cv2.imread('images/cat.png', cv2.IMREAD_GRAYSCALE)\n",
    "  \n",
    "if img1 is None:\n",
    "        print('Image load failed!')\n",
    "        sys.exit()\n",
    "\n",
    "h, w = img1.shape[0:2]\n",
    "\n",
    "img2 = np.zeros(img1.shape, img1.dtype)\n",
    "img3 = np.zeros(img1.shape, img1.dtype)\n",
    "img4 = np.zeros(img1.shape, img1.dtype)\n",
    "\n",
    "\n",
    "for i in range(w):\n",
    "           img2[:(h-1), i] = img1[:(h-1), (w-1)-i]\n",
    "\n",
    "#Vertical flipping,  top-left and bottom-left. flipCode = 0.\n",
    "#Horizontal flipping , horizontal shift , vertical-axis (flipCode > 0).\n",
    "\n",
    "img3 = cv2.flip(img1, 0)  \n",
    "img4 = cv2.flip(img1, 1)  \n",
    "\n",
    "cv2.imshow('img1', img1)\n",
    "cv2.imshow('img2', img2)\n",
    "cv2.imshow('Vertical flipping', img3)\n",
    "cv2.imshow('Horizontal flipping', img4)\n",
    "cv2.waitKey()\n",
    "cv2.destroyAllWindows()"
   ]
  },
  {
   "cell_type": "markdown",
   "metadata": {},
   "source": [
    "3. lenna.bmp’ 를 채널로 분리하고 R채널 값을 모두 0으로 수정하여  결합한 이미지를 출력하세요."
   ]
  },
  {
   "cell_type": "code",
   "execution_count": 13,
   "metadata": {},
   "outputs": [],
   "source": [
    "#이미지 파일 읽기\n",
    "image = cv2.imread('images/lenna.bmp')\n",
    "cv2.imshow(\"lenna.bmp\", image)\n",
    "\n",
    "if image is None:\n",
    "    print('Image load failed!')\n",
    "    sys.exit()\n",
    "\n",
    "b,g,r = cv2.split(image)\n",
    "\n",
    "cv2.imshow(\"Blue\", b)\n",
    "cv2.imshow(\"Green\", g)\n",
    "cv2.imshow(\"Red\", r)\n",
    "r[:,:] = 0\n",
    "#r = cv2.add(r, -50)                   \n",
    "newimg = cv2.merge((b,g,r))\n",
    "cv2.imshow(\"newImage\", newimg)\n",
    "\n",
    "# ESC 키 입력 시 Windows 닫음\n",
    "cv2.waitKey(0)\n",
    "cv2.destroyAllWindows() "
   ]
  },
  {
   "cell_type": "markdown",
   "metadata": {},
   "source": [
    "4. 본인 얼굴과 타인 얼굴 사진을 이용하여 블랜딩 해보세요."
   ]
  },
  {
   "cell_type": "code",
   "execution_count": null,
   "metadata": {},
   "outputs": [
    {
     "name": "stdout",
     "output_type": "stream",
     "text": [
      "img1.shape= (163, 163, 3)\n",
      "img2.shape= (182, 182, 3)\n"
     ]
    }
   ],
   "source": [
    "img1 = cv2.imread('images/dog1.jpg')\n",
    "img2 = cv2.imread('images/dog3.jpg')\n",
    "\n",
    "height, width = img1.shape[:2]\n",
    "\n",
    "print(\"img1.shape=\", img1.shape)\n",
    "print(\"img2.shape=\", img2.shape)\n",
    "img2 = cv2.resize(img2,(width, height))\n",
    "\n",
    "           \n",
    "a = 0.5\n",
    "dst2 = cv2.addWeighted(img1, 1-a, img2, a, 0)\n",
    "\n",
    "cv2.imshow('img1', img1)\n",
    "cv2.imshow('img2', img2)\n",
    "\n",
    "cv2.imshow('addWeighted', dst2)\n",
    "\n",
    "cv2.waitKey()\n",
    "cv2.destroyAllWindows()"
   ]
  },
  {
   "cell_type": "markdown",
   "metadata": {},
   "source": [
    "5. 축구장면 이미지에서 축구공만을 ROI로 추출해서 파일로 저장하세요."
   ]
  },
  {
   "cell_type": "code",
   "execution_count": 20,
   "metadata": {},
   "outputs": [],
   "source": [
    "img =  cv2.imread('images/messi5.jpg')\n",
    "\n",
    "ball = img[280:340, 330:390].copy()\n",
    "cv2.imshow('img1', img)\n",
    "cv2.imshow('ball', ball)\n",
    "cv2.imwrite(\"image/ball.jpg\", ball)\n",
    "cv2.waitKey()\n",
    "cv2.destroyAllWindows()"
   ]
  },
  {
   "cell_type": "code",
   "execution_count": null,
   "metadata": {},
   "outputs": [],
   "source": []
  }
 ],
 "metadata": {
  "kernelspec": {
   "display_name": "Python 3",
   "language": "python",
   "name": "python3"
  },
  "language_info": {
   "codemirror_mode": {
    "name": "ipython",
    "version": 3
   },
   "file_extension": ".py",
   "mimetype": "text/x-python",
   "name": "python",
   "nbconvert_exporter": "python",
   "pygments_lexer": "ipython3",
   "version": "3.7.7"
  }
 },
 "nbformat": 4,
 "nbformat_minor": 4
}
