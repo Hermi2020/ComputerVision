{
 "cells": [
  {
   "cell_type": "markdown",
   "metadata": {},
   "source": [
    "##  Image 생성 "
   ]
  },
  {
   "cell_type": "code",
   "execution_count": 1,
   "metadata": {},
   "outputs": [],
   "source": [
    "import numpy as np\n",
    "import cv2\n",
    "import os\n",
    "import sys"
   ]
  },
  {
   "cell_type": "markdown",
   "metadata": {},
   "source": [
    "### numpy를 이용한 이미지 생성"
   ]
  },
  {
   "cell_type": "code",
   "execution_count": 29,
   "metadata": {},
   "outputs": [
    {
     "name": "stdout",
     "output_type": "stream",
     "text": [
      "img1= 80\n",
      "img2= [0 0 0]\n",
      "img3= 100\n",
      "mat1 =  [[100 100 130 140 150]\n",
      " [210 202 230 240 250]\n",
      " [200 200 200 200 200]\n",
      " [110 120 130 140 150]\n",
      " [ 60  70  80  90 100]]\n"
     ]
    }
   ],
   "source": [
    "img1 = np.empty((200, 300), np.uint8)       # grayscale image\n",
    "img2 = np.zeros((200, 300, 3), np.uint8)    # color image\n",
    "img3 = np.full((200, 300), 100, np.uint8)   # Fill with 100\n",
    "\n",
    "mat1 = np.array([[10, 120, 130, 140, 150],\n",
    "                 [210, 202, 230, 240, 250],\n",
    "                 [310, 320, 330, 340, 350],\n",
    "                 [110, 120, 130, 140, 150],\n",
    "                 [60, 70, 80, 90, 100]]).astype(np.uint8)\n",
    "\n",
    "mat1[0, 1] = 100    # element at x=1, y=0\n",
    "mat1[2, :] = 200\n",
    "\n",
    "print(\"img1=\", img1[0,0])\n",
    "print(\"img2=\", img2[0,0])\n",
    "print(\"img3=\", img3[0,0])\n",
    "print(\"mat1 = \",  mat1)\n",
    "\n",
    "cv2.imshow('img1', img1)\n",
    "cv2.imshow('img2', img2)\n",
    "cv2.imshow('img3', img3)\n",
    "cv2.imshow('mat1', mat1)\n",
    "cv2.waitKey()\n",
    "cv2.destroyAllWindows()\n"
   ]
  },
  {
   "cell_type": "markdown",
   "metadata": {},
   "source": [
    "### Image copy"
   ]
  },
  {
   "cell_type": "code",
   "execution_count": 86,
   "metadata": {},
   "outputs": [],
   "source": [
    "\n",
    "img1 = cv2.imread('images/cat.png')\n",
    "  \n",
    "if img1 is None:\n",
    "        print('Image load failed!')\n",
    "        sys.exit()\n",
    "        \n",
    "img2 = img1\n",
    "img3 = img1.copy()\n",
    "\n",
    "img1[:50, :50] = (0, 255, 255)  # yellow\n",
    "\n",
    "cv2.imshow('img1', img1)\n",
    "cv2.imshow('img2', img2)\n",
    "cv2.imshow('img3', img3)\n",
    "cv2.waitKey()\n",
    "cv2.destroyAllWindows()"
   ]
  },
  {
   "cell_type": "markdown",
   "metadata": {},
   "source": [
    "### Image 추출 및 연산"
   ]
  },
  {
   "cell_type": "code",
   "execution_count": 91,
   "metadata": {},
   "outputs": [],
   "source": [
    "img1 = cv2.imread('images/lenna.bmp', cv2.IMREAD_GRAYSCALE)\n",
    "\n",
    "img2 = img1[200:400, 200:400]\n",
    "img3 = img1[200:400, 200:400].copy()\n",
    "\n",
    "img2 +=  40\n",
    "\n",
    "cv2.imshow('img1', img1)\n",
    "cv2.imshow('img2', img2)\n",
    "cv2.imshow('img3', img3)\n",
    "\n",
    "img4 = cv2.add(img3, 40)  # saturated operation\n",
    "cv2.imshow('img4', img4)\n",
    "\n",
    "cv2.waitKey()\n",
    "cv2.destroyAllWindows()\n"
   ]
  },
  {
   "cell_type": "markdown",
   "metadata": {},
   "source": [
    "### Image Flip"
   ]
  },
  {
   "cell_type": "code",
   "execution_count": 88,
   "metadata": {},
   "outputs": [
    {
     "name": "stdout",
     "output_type": "stream",
     "text": [
      "mat1: [[ 0  1  2  3  4]\n",
      " [ 5  6  7  8  9]\n",
      " [10 11 12 13 14]\n",
      " [15 16 17 18 19]\n",
      " [20 21 22 23 24]]\n",
      "mat2:\n",
      "[[20 21 22 23 24]\n",
      " [15 16 17 18 19]\n",
      " [10 11 12 13 14]\n",
      " [ 5  6  7  8  9]\n",
      " [ 0  1  2  3  4]]\n",
      "img1 type= uint8\n",
      "img1 shape= (192, 256)\n",
      "img2 type= uint8\n",
      "img2 shape= (192, 256)\n"
     ]
    }
   ],
   "source": [
    "#행렬  flip \n",
    "mat1 = np.array(np.arange(25).reshape(5, 5))\n",
    "print('mat1:', mat1)\n",
    "\n",
    "h, w = mat1.shape[:2]\n",
    "\n",
    "mat2 = np.zeros(mat1.shape, mat1.dtype)\n",
    "\n",
    "for j in range(h):\n",
    "        for i in range(w):\n",
    "            mat2[j, i] = mat1[h-1-j, i]\n",
    "\n",
    "print('mat2:')\n",
    "print(mat2)\n",
    "\n",
    "# image flip\n",
    "img1 = cv2.imread('images/cat.png', cv2.IMREAD_GRAYSCALE)\n",
    "  \n",
    "if img1 is None:\n",
    "        print('Image load failed!')\n",
    "        sys.exit()\n",
    "\n",
    "h, w = img1.shape[0:2]\n",
    "\n",
    "img2 = np.zeros(img1.shape, img1.dtype)\n",
    "print(\"img1 type=\", img1.dtype)\n",
    "print(\"img1 shape=\", img1.shape)\n",
    "print(\"img2 type=\", img2.dtype)\n",
    "print(\"img2 shape=\", img2.shape)\n",
    "\n",
    "\n",
    "for j in range(h):\n",
    "           img2[j, :(w-1)] = img1[h-1-j, :(w-1)]\n",
    "\n",
    "cv2.imshow('img1', img1)\n",
    "cv2.imshow('img2', img2)\n",
    "\n",
    "cv2.waitKey()\n",
    "cv2.destroyAllWindows()"
   ]
  },
  {
   "cell_type": "code",
   "execution_count": null,
   "metadata": {},
   "outputs": [],
   "source": []
  }
 ],
 "metadata": {
  "kernelspec": {
   "display_name": "Python 3",
   "language": "python",
   "name": "python3"
  },
  "language_info": {
   "codemirror_mode": {
    "name": "ipython",
    "version": 3
   },
   "file_extension": ".py",
   "mimetype": "text/x-python",
   "name": "python",
   "nbconvert_exporter": "python",
   "pygments_lexer": "ipython3",
   "version": "3.7.1"
  }
 },
 "nbformat": 4,
 "nbformat_minor": 4
}
